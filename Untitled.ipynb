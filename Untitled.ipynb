{
 "cells": [
  {
   "cell_type": "code",
   "execution_count": 1,
   "metadata": {},
   "outputs": [],
   "source": [
    "import pandas_datareader as pdr"
   ]
  },
  {
   "cell_type": "code",
   "execution_count": 2,
   "metadata": {},
   "outputs": [],
   "source": [
    "key='c23059ebabf5c200bfc9d1523349ebce708e489c'"
   ]
  },
  {
   "cell_type": "code",
   "execution_count": 3,
   "metadata": {},
   "outputs": [],
   "source": [
    "df = pdr.get_data_tiingo('AAPL', api_key=key)"
   ]
  },
  {
   "cell_type": "code",
   "execution_count": 4,
   "metadata": {},
   "outputs": [],
   "source": [
    "df.to_csv('AAPL.csv')"
   ]
  },
  {
   "cell_type": "code",
   "execution_count": 5,
   "metadata": {},
   "outputs": [],
   "source": [
    "import pandas as pd"
   ]
  },
  {
   "cell_type": "code",
   "execution_count": 6,
   "metadata": {},
   "outputs": [],
   "source": [
    "df=pd.read_csv('AAPL.csv')"
   ]
  },
  {
   "cell_type": "code",
   "execution_count": 7,
   "metadata": {},
   "outputs": [
    {
     "data": {
      "text/html": [
       "<div>\n",
       "<style scoped>\n",
       "    .dataframe tbody tr th:only-of-type {\n",
       "        vertical-align: middle;\n",
       "    }\n",
       "\n",
       "    .dataframe tbody tr th {\n",
       "        vertical-align: top;\n",
       "    }\n",
       "\n",
       "    .dataframe thead th {\n",
       "        text-align: right;\n",
       "    }\n",
       "</style>\n",
       "<table border=\"1\" class=\"dataframe\">\n",
       "  <thead>\n",
       "    <tr style=\"text-align: right;\">\n",
       "      <th></th>\n",
       "      <th>symbol</th>\n",
       "      <th>date</th>\n",
       "      <th>adjClose</th>\n",
       "      <th>adjHigh</th>\n",
       "      <th>adjLow</th>\n",
       "      <th>adjOpen</th>\n",
       "      <th>adjVolume</th>\n",
       "      <th>close</th>\n",
       "      <th>divCash</th>\n",
       "      <th>high</th>\n",
       "      <th>low</th>\n",
       "      <th>open</th>\n",
       "      <th>splitFactor</th>\n",
       "      <th>volume</th>\n",
       "    </tr>\n",
       "  </thead>\n",
       "  <tbody>\n",
       "    <tr>\n",
       "      <th>0</th>\n",
       "      <td>AAPL</td>\n",
       "      <td>2015-07-28 00:00:00+00:00</td>\n",
       "      <td>113.697557</td>\n",
       "      <td>114.185965</td>\n",
       "      <td>112.932693</td>\n",
       "      <td>113.697557</td>\n",
       "      <td>33618097</td>\n",
       "      <td>123.38</td>\n",
       "      <td>0.0</td>\n",
       "      <td>123.9100</td>\n",
       "      <td>122.55</td>\n",
       "      <td>123.38</td>\n",
       "      <td>1.0</td>\n",
       "      <td>33618097</td>\n",
       "    </tr>\n",
       "    <tr>\n",
       "      <th>1</th>\n",
       "      <td>AAPL</td>\n",
       "      <td>2015-07-29 00:00:00+00:00</td>\n",
       "      <td>113.338163</td>\n",
       "      <td>113.808140</td>\n",
       "      <td>112.674666</td>\n",
       "      <td>113.485607</td>\n",
       "      <td>37011653</td>\n",
       "      <td>122.99</td>\n",
       "      <td>0.0</td>\n",
       "      <td>123.5000</td>\n",
       "      <td>122.27</td>\n",
       "      <td>123.15</td>\n",
       "      <td>1.0</td>\n",
       "      <td>37011653</td>\n",
       "    </tr>\n",
       "    <tr>\n",
       "      <th>2</th>\n",
       "      <td>AAPL</td>\n",
       "      <td>2015-07-30 00:00:00+00:00</td>\n",
       "      <td>112.766819</td>\n",
       "      <td>112.951031</td>\n",
       "      <td>112.158613</td>\n",
       "      <td>112.720742</td>\n",
       "      <td>33628268</td>\n",
       "      <td>122.37</td>\n",
       "      <td>0.0</td>\n",
       "      <td>122.5699</td>\n",
       "      <td>121.71</td>\n",
       "      <td>122.32</td>\n",
       "      <td>1.0</td>\n",
       "      <td>33628268</td>\n",
       "    </tr>\n",
       "    <tr>\n",
       "      <th>3</th>\n",
       "      <td>AAPL</td>\n",
       "      <td>2015-07-31 00:00:00+00:00</td>\n",
       "      <td>111.780789</td>\n",
       "      <td>113.017934</td>\n",
       "      <td>111.421394</td>\n",
       "      <td>112.978769</td>\n",
       "      <td>42884953</td>\n",
       "      <td>121.30</td>\n",
       "      <td>0.0</td>\n",
       "      <td>122.6425</td>\n",
       "      <td>120.91</td>\n",
       "      <td>122.60</td>\n",
       "      <td>1.0</td>\n",
       "      <td>42884953</td>\n",
       "    </tr>\n",
       "    <tr>\n",
       "      <th>4</th>\n",
       "      <td>AAPL</td>\n",
       "      <td>2015-08-03 00:00:00+00:00</td>\n",
       "      <td>109.145232</td>\n",
       "      <td>112.951123</td>\n",
       "      <td>108.297430</td>\n",
       "      <td>111.965093</td>\n",
       "      <td>69975968</td>\n",
       "      <td>118.44</td>\n",
       "      <td>0.0</td>\n",
       "      <td>122.5700</td>\n",
       "      <td>117.52</td>\n",
       "      <td>121.50</td>\n",
       "      <td>1.0</td>\n",
       "      <td>69975968</td>\n",
       "    </tr>\n",
       "  </tbody>\n",
       "</table>\n",
       "</div>"
      ],
      "text/plain": [
       "  symbol                       date    adjClose     adjHigh      adjLow  \\\n",
       "0   AAPL  2015-07-28 00:00:00+00:00  113.697557  114.185965  112.932693   \n",
       "1   AAPL  2015-07-29 00:00:00+00:00  113.338163  113.808140  112.674666   \n",
       "2   AAPL  2015-07-30 00:00:00+00:00  112.766819  112.951031  112.158613   \n",
       "3   AAPL  2015-07-31 00:00:00+00:00  111.780789  113.017934  111.421394   \n",
       "4   AAPL  2015-08-03 00:00:00+00:00  109.145232  112.951123  108.297430   \n",
       "\n",
       "      adjOpen  adjVolume   close  divCash      high     low    open  \\\n",
       "0  113.697557   33618097  123.38      0.0  123.9100  122.55  123.38   \n",
       "1  113.485607   37011653  122.99      0.0  123.5000  122.27  123.15   \n",
       "2  112.720742   33628268  122.37      0.0  122.5699  121.71  122.32   \n",
       "3  112.978769   42884953  121.30      0.0  122.6425  120.91  122.60   \n",
       "4  111.965093   69975968  118.44      0.0  122.5700  117.52  121.50   \n",
       "\n",
       "   splitFactor    volume  \n",
       "0          1.0  33618097  \n",
       "1          1.0  37011653  \n",
       "2          1.0  33628268  \n",
       "3          1.0  42884953  \n",
       "4          1.0  69975968  "
      ]
     },
     "execution_count": 7,
     "metadata": {},
     "output_type": "execute_result"
    }
   ],
   "source": [
    "df.head()"
   ]
  },
  {
   "cell_type": "code",
   "execution_count": 8,
   "metadata": {},
   "outputs": [
    {
     "data": {
      "text/html": [
       "<div>\n",
       "<style scoped>\n",
       "    .dataframe tbody tr th:only-of-type {\n",
       "        vertical-align: middle;\n",
       "    }\n",
       "\n",
       "    .dataframe tbody tr th {\n",
       "        vertical-align: top;\n",
       "    }\n",
       "\n",
       "    .dataframe thead th {\n",
       "        text-align: right;\n",
       "    }\n",
       "</style>\n",
       "<table border=\"1\" class=\"dataframe\">\n",
       "  <thead>\n",
       "    <tr style=\"text-align: right;\">\n",
       "      <th></th>\n",
       "      <th>symbol</th>\n",
       "      <th>date</th>\n",
       "      <th>adjClose</th>\n",
       "      <th>adjHigh</th>\n",
       "      <th>adjLow</th>\n",
       "      <th>adjOpen</th>\n",
       "      <th>adjVolume</th>\n",
       "      <th>close</th>\n",
       "      <th>divCash</th>\n",
       "      <th>high</th>\n",
       "      <th>low</th>\n",
       "      <th>open</th>\n",
       "      <th>splitFactor</th>\n",
       "      <th>volume</th>\n",
       "    </tr>\n",
       "  </thead>\n",
       "  <tbody>\n",
       "    <tr>\n",
       "      <th>1253</th>\n",
       "      <td>AAPL</td>\n",
       "      <td>2020-07-20 00:00:00+00:00</td>\n",
       "      <td>393.43</td>\n",
       "      <td>394.00</td>\n",
       "      <td>384.250</td>\n",
       "      <td>385.6700</td>\n",
       "      <td>22397208</td>\n",
       "      <td>393.43</td>\n",
       "      <td>0.0</td>\n",
       "      <td>394.00</td>\n",
       "      <td>384.250</td>\n",
       "      <td>385.6700</td>\n",
       "      <td>1.0</td>\n",
       "      <td>22397208</td>\n",
       "    </tr>\n",
       "    <tr>\n",
       "      <th>1254</th>\n",
       "      <td>AAPL</td>\n",
       "      <td>2020-07-21 00:00:00+00:00</td>\n",
       "      <td>388.00</td>\n",
       "      <td>397.00</td>\n",
       "      <td>386.970</td>\n",
       "      <td>396.6900</td>\n",
       "      <td>25627347</td>\n",
       "      <td>388.00</td>\n",
       "      <td>0.0</td>\n",
       "      <td>397.00</td>\n",
       "      <td>386.970</td>\n",
       "      <td>396.6900</td>\n",
       "      <td>1.0</td>\n",
       "      <td>25627347</td>\n",
       "    </tr>\n",
       "    <tr>\n",
       "      <th>1255</th>\n",
       "      <td>AAPL</td>\n",
       "      <td>2020-07-22 00:00:00+00:00</td>\n",
       "      <td>389.09</td>\n",
       "      <td>391.90</td>\n",
       "      <td>386.410</td>\n",
       "      <td>386.7700</td>\n",
       "      <td>22250413</td>\n",
       "      <td>389.09</td>\n",
       "      <td>0.0</td>\n",
       "      <td>391.90</td>\n",
       "      <td>386.410</td>\n",
       "      <td>386.7700</td>\n",
       "      <td>1.0</td>\n",
       "      <td>22250413</td>\n",
       "    </tr>\n",
       "    <tr>\n",
       "      <th>1256</th>\n",
       "      <td>AAPL</td>\n",
       "      <td>2020-07-23 00:00:00+00:00</td>\n",
       "      <td>371.38</td>\n",
       "      <td>388.31</td>\n",
       "      <td>368.039</td>\n",
       "      <td>387.9935</td>\n",
       "      <td>49251108</td>\n",
       "      <td>371.38</td>\n",
       "      <td>0.0</td>\n",
       "      <td>388.31</td>\n",
       "      <td>368.039</td>\n",
       "      <td>387.9935</td>\n",
       "      <td>1.0</td>\n",
       "      <td>49251108</td>\n",
       "    </tr>\n",
       "    <tr>\n",
       "      <th>1257</th>\n",
       "      <td>AAPL</td>\n",
       "      <td>2020-07-24 00:00:00+00:00</td>\n",
       "      <td>370.46</td>\n",
       "      <td>371.88</td>\n",
       "      <td>356.580</td>\n",
       "      <td>363.9500</td>\n",
       "      <td>46359716</td>\n",
       "      <td>370.46</td>\n",
       "      <td>0.0</td>\n",
       "      <td>371.88</td>\n",
       "      <td>356.580</td>\n",
       "      <td>363.9500</td>\n",
       "      <td>1.0</td>\n",
       "      <td>46359716</td>\n",
       "    </tr>\n",
       "  </tbody>\n",
       "</table>\n",
       "</div>"
      ],
      "text/plain": [
       "     symbol                       date  adjClose  adjHigh   adjLow   adjOpen  \\\n",
       "1253   AAPL  2020-07-20 00:00:00+00:00    393.43   394.00  384.250  385.6700   \n",
       "1254   AAPL  2020-07-21 00:00:00+00:00    388.00   397.00  386.970  396.6900   \n",
       "1255   AAPL  2020-07-22 00:00:00+00:00    389.09   391.90  386.410  386.7700   \n",
       "1256   AAPL  2020-07-23 00:00:00+00:00    371.38   388.31  368.039  387.9935   \n",
       "1257   AAPL  2020-07-24 00:00:00+00:00    370.46   371.88  356.580  363.9500   \n",
       "\n",
       "      adjVolume   close  divCash    high      low      open  splitFactor  \\\n",
       "1253   22397208  393.43      0.0  394.00  384.250  385.6700          1.0   \n",
       "1254   25627347  388.00      0.0  397.00  386.970  396.6900          1.0   \n",
       "1255   22250413  389.09      0.0  391.90  386.410  386.7700          1.0   \n",
       "1256   49251108  371.38      0.0  388.31  368.039  387.9935          1.0   \n",
       "1257   46359716  370.46      0.0  371.88  356.580  363.9500          1.0   \n",
       "\n",
       "        volume  \n",
       "1253  22397208  \n",
       "1254  25627347  \n",
       "1255  22250413  \n",
       "1256  49251108  \n",
       "1257  46359716  "
      ]
     },
     "execution_count": 8,
     "metadata": {},
     "output_type": "execute_result"
    }
   ],
   "source": [
    "df.tail()"
   ]
  },
  {
   "cell_type": "code",
   "execution_count": 27,
   "metadata": {},
   "outputs": [],
   "source": [
    "df1=df[['date','close']]"
   ]
  },
  {
   "cell_type": "code",
   "execution_count": 17,
   "metadata": {},
   "outputs": [
    {
     "name": "stdout",
     "output_type": "stream",
     "text": [
      "<class 'pandas.core.frame.DataFrame'>\n",
      "RangeIndex: 1258 entries, 0 to 1257\n",
      "Data columns (total 2 columns):\n",
      "date     1258 non-null object\n",
      "close    1258 non-null float64\n",
      "dtypes: float64(1), object(1)\n",
      "memory usage: 19.7+ KB\n"
     ]
    }
   ],
   "source": [
    "df1.info()"
   ]
  },
  {
   "cell_type": "code",
   "execution_count": 35,
   "metadata": {},
   "outputs": [
    {
     "name": "stderr",
     "output_type": "stream",
     "text": [
      "C:\\Users\\titan\\Anaconda3\\lib\\site-packages\\ipykernel_launcher.py:2: SettingWithCopyWarning: \n",
      "A value is trying to be set on a copy of a slice from a DataFrame.\n",
      "Try using .loc[row_indexer,col_indexer] = value instead\n",
      "\n",
      "See the caveats in the documentation: http://pandas.pydata.org/pandas-docs/stable/indexing.html#indexing-view-versus-copy\n",
      "  \n"
     ]
    }
   ],
   "source": [
    "# Convert Month into Datetime\n",
    "df1['date']=pd.to_datetime(df1['date'])"
   ]
  },
  {
   "cell_type": "code",
   "execution_count": 30,
   "metadata": {},
   "outputs": [
    {
     "name": "stderr",
     "output_type": "stream",
     "text": [
      "C:\\Users\\titan\\Anaconda3\\lib\\site-packages\\ipykernel_launcher.py:1: SettingWithCopyWarning: \n",
      "A value is trying to be set on a copy of a slice from a DataFrame.\n",
      "Try using .loc[row_indexer,col_indexer] = value instead\n",
      "\n",
      "See the caveats in the documentation: http://pandas.pydata.org/pandas-docs/stable/indexing.html#indexing-view-versus-copy\n",
      "  \"\"\"Entry point for launching an IPython kernel.\n"
     ]
    }
   ],
   "source": [
    "df1['date']=df1['date'].dt.strftime('%Y/%m/%d')"
   ]
  },
  {
   "cell_type": "code",
   "execution_count": 33,
   "metadata": {},
   "outputs": [],
   "source": [
    "import matplotlib.pyplot as plt\n",
    "%matplotlib inline"
   ]
  },
  {
   "cell_type": "code",
   "execution_count": 40,
   "metadata": {},
   "outputs": [
    {
     "data": {
      "text/plain": [
       "<matplotlib.axes._subplots.AxesSubplot at 0x1fb495a5ac8>"
      ]
     },
     "execution_count": 40,
     "metadata": {},
     "output_type": "execute_result"
    },
    {
     "data": {
      "image/png": "[encoded data removed]",
      "text/plain": [
       "<Figure size 432x288 with 1 Axes>"
      ]
     },
     "metadata": {
      "needs_background": "light"
     },
     "output_type": "display_data"
    }
   ],
   "source": [
    "df1.plot()"
   ]
  },
  {
   "cell_type": "code",
   "execution_count": 39,
   "metadata": {},
   "outputs": [],
   "source": [
    "df1.set_index('date',inplace=True)"
   ]
  },
  {
   "cell_type": "code",
   "execution_count": null,
   "metadata": {},
   "outputs": [],
   "source": []
  }
 ],
 "metadata": {
  "kernelspec": {
   "display_name": "Python 3",
   "language": "python",
   "name": "python3"
  },
  "language_info": {
   "codemirror_mode": {
    "name": "ipython",
    "version": 3
   },
   "file_extension": ".py",
   "mimetype": "text/x-python",
   "name": "python",
   "nbconvert_exporter": "python",
   "pygments_lexer": "ipython3",
   "version": "3.7.1"
  }
 },
 "nbformat": 4,
 "nbformat_minor": 2
}
